{
 "cells": [
  {
   "cell_type": "markdown",
   "id": "a65d0385",
   "metadata": {},
   "source": [
    "# Bay Area Boba EDA\n",
    "\n",
    "**Question:** What patterns in location and pricing relate to higher ratings?"
   ]
  },
  {
   "cell_type": "code",
   "execution_count": null,
   "id": "ebed8e9f",
   "metadata": {},
   "outputs": [],
   "source": [
    "from pathlib import Path\n",
    "import pandas as pd\n",
    "import numpy as np\n",
    "import matplotlib.pyplot as plt\n",
    "import seaborn as sns\n",
    "\n",
    "from src.clean import clean_pipeline\n",
    "from src.viz import savefig\n",
    "\n",
    "DATA_PATH = Path(\"../data\") / \"bayarea_boba_spots.csv\"  # put CSV here\n",
    "df = clean_pipeline(DATA_PATH)\n",
    "df.head()"
   ]
  },
  {
   "cell_type": "markdown",
   "id": "2877591b",
   "metadata": {},
   "source": [
    "## Data Dictionary & Assumptions\n",
    "- `rating`: Yelp star rating (0–5)\n",
    "- `lat`/`lon`: WGS84 degrees\n",
    "- `city`: parsed from address; trimmed of whitespace\n",
    "- Assumptions: ratings are subjective/noisy; no price column in base CSV (add if available)."
   ]
  },
  {
   "cell_type": "markdown",
   "id": "5da1baf4",
   "metadata": {},
   "source": [
    "## Top Cities by Number of Shops"
   ]
  },
  {
   "cell_type": "code",
   "execution_count": null,
   "id": "730d7d88",
   "metadata": {},
   "outputs": [],
   "source": [
    "city_counts = (df.groupby(\"city\", as_index=False)\n",
    "                 .size()\n",
    "                 .sort_values(\"size\", ascending=False)\n",
    "                 .head(10))\n",
    "ax = city_counts.plot(kind=\"barh\", x=\"city\", y=\"size\", figsize=(8,5))\n",
    "ax.invert_yaxis()\n",
    "ax.set_title(\"Top 10 Bay Area Cities by Number of Boba Shops\")\n",
    "ax.set_xlabel(\"Shop count\"); ax.set_ylabel(\"\")\n",
    "for c in ax.containers: ax.bar_label(c, padding=2)\n",
    "savefig(\"../assets/top_cities.png\")"
   ]
  },
  {
   "cell_type": "markdown",
   "id": "baa6499e",
   "metadata": {},
   "source": [
    "**Takeaway:** Fill in after you view the chart."
   ]
  },
  {
   "cell_type": "markdown",
   "id": "0a714ac4",
   "metadata": {},
   "source": [
    "## Geospatial Density (Hexbin preview)"
   ]
  },
  {
   "cell_type": "code",
   "execution_count": null,
   "id": "b2fae09e",
   "metadata": {},
   "outputs": [],
   "source": [
    "plt.figure(figsize=(6,6))\n",
    "plt.hexbin(df[\"lon\"], df[\"lat\"], gridsize=60)\n",
    "plt.title(\"Boba Shop Density (Hexbin)\")\n",
    "plt.xlabel(\"Longitude\"); plt.ylabel(\"Latitude\")\n",
    "savefig(\"../assets/heatmap_hexbin.png\")"
   ]
  },
  {
   "cell_type": "markdown",
   "id": "12bfe323",
   "metadata": {},
   "source": [
    "**Takeaway:** Fill in a one-liner about density clusters (SF/Peninsula vs East Bay)."
   ]
  }
 ],
 "metadata": {},
 "nbformat": 4,
 "nbformat_minor": 5
}
