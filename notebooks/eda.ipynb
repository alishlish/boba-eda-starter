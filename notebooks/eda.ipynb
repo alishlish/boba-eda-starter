{
 "cells": [
  {
   "cell_type": "markdown",
   "id": "a65d0385",
   "metadata": {},
   "source": [
    "# Bay Area Boba EDA\n",
    "\n",
    "**Question:** What patterns in location and pricing relate to higher ratings?"
   ]
  },
  {
   "cell_type": "code",
   "execution_count": null,
   "id": "ebed8e9f",
   "metadata": {},
   "outputs": [],
   "source": [
    "# --- Notebook bootstrap: set project root + imports ---\n",
    "import sys\n",
    "from pathlib import Path\n",
    "\n",
    "# when running notebooks/eda.ipynb, project root is one level up\n",
    "ROOT = Path.cwd().parent  # -> .../boba-eda-starter\n",
    "if str(ROOT) not in sys.path:\n",
    "    sys.path.insert(0, str(ROOT))\n",
    "\n",
    "# optional: nicer dev loop (reloads src/* on change)\n",
    "try:\n",
    "    %load_ext autoreload\n",
    "    %autoreload 2\n",
    "except Exception:\n",
    "    pass\n",
    "\n",
    "from src.clean import clean_pipeline\n",
    "from src.viz import savefig\n",
    "\n",
    "# --- Data load ---\n",
    "from pathlib import Path\n",
    "DATA_PATH = ROOT / \"data\" / \"bayarea_boba_spots.csv\"  # robust absolute path from ROOT\n",
    "df = clean_pipeline(DATA_PATH)\n",
    "df.head()\n"
   ]
  },
  {
   "cell_type": "markdown",
   "id": "2877591b",
   "metadata": {},
   "source": [
    "## Data Dictionary & Assumptions\n",
    "- `rating`: Yelp star rating (0–5)\n",
    "- `lat`/`lon`: WGS84 degrees\n",
    "- `city`: parsed from address; trimmed of whitespace\n",
    "- Assumptions: ratings are subjective/noisy; no price column in base CSV (add if available)."
   ]
  },
  {
   "cell_type": "markdown",
   "id": "5da1baf4",
   "metadata": {},
   "source": [
    "## Top Cities by Number of Shops"
   ]
  },
  {
   "cell_type": "code",
   "execution_count": null,
   "id": "730d7d88",
   "metadata": {},
   "outputs": [],
   "source": [
    "city_counts = (df.groupby(\"city\", as_index=False)\n",
    "                 .size()\n",
    "                 .sort_values(\"size\", ascending=False)\n",
    "                 .head(10))\n",
    "ax = city_counts.plot(kind=\"barh\", x=\"city\", y=\"size\", figsize=(8,5))\n",
    "ax.invert_yaxis()\n",
    "ax.set_title(\"Top 10 Bay Area Cities by Number of Boba Shops\")\n",
    "ax.set_xlabel(\"Shop count\"); ax.set_ylabel(\"\")\n",
    "for c in ax.containers: ax.bar_label(c, padding=2)\n",
    "savefig(\"../assets/top_cities.png\")"
   ]
  },
  {
   "cell_type": "markdown",
   "id": "baa6499e",
   "metadata": {},
   "source": [
    "**Takeaway:** Fill in after you view the chart."
   ]
  },
  {
   "cell_type": "markdown",
   "id": "0a714ac4",
   "metadata": {},
   "source": [
    "## Geospatial Density (Hexbin preview)"
   ]
  },
  {
   "cell_type": "code",
   "execution_count": null,
   "id": "b2fae09e",
   "metadata": {},
   "outputs": [],
   "source": [
    "plt.figure(figsize=(6,6))\n",
    "plt.hexbin(df[\"lon\"], df[\"lat\"], gridsize=60)\n",
    "plt.title(\"Boba Shop Density (Hexbin)\")\n",
    "plt.xlabel(\"Longitude\"); plt.ylabel(\"Latitude\")\n",
    "savefig(\"../assets/heatmap_hexbin.png\")"
   ]
  },
  {
   "cell_type": "markdown",
   "id": "12bfe323",
   "metadata": {},
   "source": [
    "**Takeaway:** Fill in a one-liner about density clusters (SF/Peninsula vs East Bay)."
   ]
  }
 ],
 "metadata": {
  "kernelspec": {
   "display_name": "Python 3",
   "language": "python",
   "name": "python3"
  },
  "language_info": {
   "codemirror_mode": {
    "name": "ipython",
    "version": 3
   },
   "file_extension": ".py",
   "mimetype": "text/x-python",
   "name": "python",
   "nbconvert_exporter": "python",
   "pygments_lexer": "ipython3",
   "version": "3.12.2"
  }
 },
 "nbformat": 4,
 "nbformat_minor": 5
}
